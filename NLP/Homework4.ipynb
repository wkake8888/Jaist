{
  "nbformat": 4,
  "nbformat_minor": 0,
  "metadata": {
    "colab": {
      "name": "Homework4.ipynb",
      "provenance": [],
      "collapsed_sections": []
    },
    "kernelspec": {
      "name": "python3",
      "display_name": "Python 3"
    },
    "language_info": {
      "name": "python"
    },
    "accelerator": "GPU"
  },
  "cells": [
    {
      "cell_type": "code",
      "metadata": {
        "id": "zjg1XQup66Gx"
      },
      "source": [
        "import math"
      ],
      "execution_count": 1,
      "outputs": []
    },
    {
      "cell_type": "code",
      "metadata": {
        "id": "bWKU_OIz7zgI"
      },
      "source": [
        "d1 = open('Homework4/d1.txt', 'r').read().split()\n",
        "d2 = open('Homework4/d2.txt', 'r').read().split()\n",
        "d3 = open('Homework4/d3.txt', 'r').read().split()\n",
        "d4 = open('Homework4/d4.txt', 'r').read().split()\n",
        "d5 = open('Homework4/d5.txt', 'r').read().split()"
      ],
      "execution_count": 2,
      "outputs": []
    },
    {
      "cell_type": "code",
      "metadata": {
        "id": "PgTU-SvT79A5"
      },
      "source": [
        "doc_list = [d1, d2, d3, d4, d5]\n",
        "word_set = set()\n",
        "for d in doc_list:\n",
        "    for x in d:\n",
        "        word_set.add(x)"
      ],
      "execution_count": 3,
      "outputs": []
    },
    {
      "cell_type": "code",
      "metadata": {
        "id": "MKjPoQxm7_9G"
      },
      "source": [
        "# make tf dictionary\n",
        "\n",
        "# initialize tf with 0\n",
        "tf = {}\n",
        "for i in range(len(doc_list)):\n",
        "    doc_id = \"d\" + str(i+1)\n",
        "    tf[doc_id] = dict()\n",
        "    for word in word_set:\n",
        "        tf[doc_id][word] = 0"
      ],
      "execution_count": 4,
      "outputs": []
    },
    {
      "cell_type": "code",
      "metadata": {
        "colab": {
          "base_uri": "https://localhost:8080/"
        },
        "id": "_pWVIEjq8KQZ",
        "outputId": "b185f56d-778a-4548-b7c5-e912bfc9afef"
      },
      "source": [
        "print(tf)"
      ],
      "execution_count": 5,
      "outputs": [
        {
          "output_type": "stream",
          "text": [
            "{'d1': {'than': 0, 'dogs': 0, 'cats': 0, 'of': 0, 'big': 0, 'are': 0, 'afraid': 0, 'better': 0, 'not': 0, 'small': 0, 'funny': 0, 'and': 0, 'nice': 0}, 'd2': {'than': 0, 'dogs': 0, 'cats': 0, 'of': 0, 'big': 0, 'are': 0, 'afraid': 0, 'better': 0, 'not': 0, 'small': 0, 'funny': 0, 'and': 0, 'nice': 0}, 'd3': {'than': 0, 'dogs': 0, 'cats': 0, 'of': 0, 'big': 0, 'are': 0, 'afraid': 0, 'better': 0, 'not': 0, 'small': 0, 'funny': 0, 'and': 0, 'nice': 0}, 'd4': {'than': 0, 'dogs': 0, 'cats': 0, 'of': 0, 'big': 0, 'are': 0, 'afraid': 0, 'better': 0, 'not': 0, 'small': 0, 'funny': 0, 'and': 0, 'nice': 0}, 'd5': {'than': 0, 'dogs': 0, 'cats': 0, 'of': 0, 'big': 0, 'are': 0, 'afraid': 0, 'better': 0, 'not': 0, 'small': 0, 'funny': 0, 'and': 0, 'nice': 0}}\n"
          ],
          "name": "stdout"
        }
      ]
    },
    {
      "cell_type": "code",
      "metadata": {
        "id": "AQFuMj_N8C-E"
      },
      "source": [
        "# assign value to tf\n",
        "for i in range(len(doc_list)):\n",
        "    doc_id = \"d\" + str(i+1)\n",
        "    for word in word_set:\n",
        "        tf[doc_id][word] = doc_list[i].count(word)"
      ],
      "execution_count": 6,
      "outputs": []
    },
    {
      "cell_type": "code",
      "metadata": {
        "colab": {
          "base_uri": "https://localhost:8080/"
        },
        "id": "w1qJDvx48HOC",
        "outputId": "372896a7-de88-4e23-ab35-18c7b88fdb14"
      },
      "source": [
        "print(tf)"
      ],
      "execution_count": 7,
      "outputs": [
        {
          "output_type": "stream",
          "text": [
            "{'d1': {'than': 0, 'dogs': 0, 'cats': 1, 'of': 0, 'big': 1, 'are': 1, 'afraid': 0, 'better': 0, 'not': 0, 'small': 0, 'funny': 1, 'and': 1, 'nice': 1}, 'd2': {'than': 1, 'dogs': 2, 'cats': 0, 'of': 0, 'big': 1, 'are': 1, 'afraid': 0, 'better': 1, 'not': 0, 'small': 1, 'funny': 0, 'and': 0, 'nice': 0}, 'd3': {'than': 0, 'dogs': 1, 'cats': 1, 'of': 1, 'big': 0, 'are': 1, 'afraid': 1, 'better': 0, 'not': 0, 'small': 2, 'funny': 0, 'and': 0, 'nice': 0}, 'd4': {'than': 0, 'dogs': 1, 'cats': 1, 'of': 1, 'big': 1, 'are': 1, 'afraid': 1, 'better': 0, 'not': 1, 'small': 1, 'funny': 0, 'and': 0, 'nice': 0}, 'd5': {'than': 0, 'dogs': 1, 'cats': 1, 'of': 1, 'big': 0, 'are': 1, 'afraid': 1, 'better': 0, 'not': 1, 'small': 1, 'funny': 1, 'and': 0, 'nice': 0}}\n"
          ],
          "name": "stdout"
        }
      ]
    },
    {
      "cell_type": "code",
      "metadata": {
        "id": "npKubmBK8Rq8"
      },
      "source": [
        "# make TfIdf dictionary\n",
        "tf_idf = tf\n",
        "\n",
        "for word in word_set:\n",
        "    count = 0\n",
        "    for doc_id in tf_idf.keys():\n",
        "        if tf[doc_id][word] != 0:\n",
        "            count += 1\n",
        "    for doc_id in tf_idf.keys():\n",
        "        tf_idf[doc_id][word] = math.log2(5/count) * tf[doc_id][word]"
      ],
      "execution_count": 8,
      "outputs": []
    },
    {
      "cell_type": "code",
      "metadata": {
        "colab": {
          "base_uri": "https://localhost:8080/"
        },
        "id": "bMVQ5nHo8XSX",
        "outputId": "10b4de52-2a8f-428f-ecc3-339bdfd0be80"
      },
      "source": [
        "print(tf_idf)"
      ],
      "execution_count": 9,
      "outputs": [
        {
          "output_type": "stream",
          "text": [
            "{'d1': {'than': 0.0, 'dogs': 0.0, 'cats': 0.32192809488736235, 'of': 0.0, 'big': 0.7369655941662062, 'are': 0.0, 'afraid': 0.0, 'better': 0.0, 'not': 0.0, 'small': 0.0, 'funny': 1.3219280948873624, 'and': 2.321928094887362, 'nice': 2.321928094887362}, 'd2': {'than': 2.321928094887362, 'dogs': 0.6438561897747247, 'cats': 0.0, 'of': 0.0, 'big': 0.7369655941662062, 'are': 0.0, 'afraid': 0.0, 'better': 2.321928094887362, 'not': 0.0, 'small': 0.32192809488736235, 'funny': 0.0, 'and': 0.0, 'nice': 0.0}, 'd3': {'than': 0.0, 'dogs': 0.32192809488736235, 'cats': 0.32192809488736235, 'of': 0.7369655941662062, 'big': 0.0, 'are': 0.0, 'afraid': 0.7369655941662062, 'better': 0.0, 'not': 0.0, 'small': 0.6438561897747247, 'funny': 0.0, 'and': 0.0, 'nice': 0.0}, 'd4': {'than': 0.0, 'dogs': 0.32192809488736235, 'cats': 0.32192809488736235, 'of': 0.7369655941662062, 'big': 0.7369655941662062, 'are': 0.0, 'afraid': 0.7369655941662062, 'better': 0.0, 'not': 1.3219280948873624, 'small': 0.32192809488736235, 'funny': 0.0, 'and': 0.0, 'nice': 0.0}, 'd5': {'than': 0.0, 'dogs': 0.32192809488736235, 'cats': 0.32192809488736235, 'of': 0.7369655941662062, 'big': 0.0, 'are': 0.0, 'afraid': 0.7369655941662062, 'better': 0.0, 'not': 1.3219280948873624, 'small': 0.32192809488736235, 'funny': 1.3219280948873624, 'and': 0.0, 'nice': 0.0}}\n"
          ],
          "name": "stdout"
        }
      ]
    }
  ]
}